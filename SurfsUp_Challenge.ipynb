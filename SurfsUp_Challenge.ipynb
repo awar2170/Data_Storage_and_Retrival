{
 "cells": [
  {
   "cell_type": "code",
   "execution_count": 1,
   "metadata": {},
   "outputs": [],
   "source": [
    "# Dependencies\n",
    "import numpy as np\n",
    "import pandas as pd\n",
    "from datascience import * \n",
    "import re\n",
    "\n",
    "# Python SQL toolkit and Object Relational Mapper\n",
    "import sqlalchemy\n",
    "from sqlalchemy.ext.automap import automap_base\n",
    "from sqlalchemy.orm import Session\n",
    "from sqlalchemy import create_engine, func\n",
    "from sqlalchemy import or_ \n",
    "from sqlalchemy import and_"
   ]
  },
  {
   "cell_type": "code",
   "execution_count": 2,
   "metadata": {},
   "outputs": [],
   "source": [
    "engine = create_engine(\"sqlite:///hawaii.sqlite\")\n",
    "\n",
    "# reflect an existing database into a new model\n",
    "Base = automap_base()\n",
    "# reflect the tables\n",
    "Base.prepare(engine, reflect=True)\n",
    "\n",
    "# Save references to each table\n",
    "Measurement = Base.classes.measurement\n",
    "Station = Base.classes.station"
   ]
  },
  {
   "cell_type": "code",
   "execution_count": 3,
   "metadata": {},
   "outputs": [],
   "source": [
    "# Create our session (link) from Python to the DB\n",
    "session = Session(engine)"
   ]
  },
  {
   "cell_type": "markdown",
   "metadata": {},
   "source": [
    "## D1: Determine the Summary Statistics for June\n",
    "\n",
    "- Tuple notation: (x, y, z) \n",
    "- List notation: [x,y,z]"
   ]
  },
  {
   "cell_type": "code",
   "execution_count": 4,
   "metadata": {},
   "outputs": [],
   "source": [
    "# 1. Import the sqlalchemy extract function.\n",
    "from sqlalchemy import extract\n",
    "\n",
    "# 2. Write a query that filters the Measurement table to retrieve the temperatures for the month of June. \n",
    "\n",
    "s_2010 = session.query(Measurement.tobs).filter(Measurement.date > '2010-05-31').filter(Measurement.date < '2010-07-01').all()\n",
    "s_2011 = session.query(Measurement.tobs).filter(Measurement.date > '2011-05-31').filter(Measurement.date < '2011-07-01').all()\n",
    "s_2012 = session.query(Measurement.tobs).filter(Measurement.date > '2012-05-31').filter(Measurement.date < '2012-07-01').all()\n",
    "s_2013 = session.query(Measurement.tobs).filter(Measurement.date > '2013-05-31').filter(Measurement.date < '2013-07-01').all()\n",
    "s_2014 = session.query(Measurement.tobs).filter(Measurement.date > '2014-05-31').filter(Measurement.date < '2014-07-01').all()\n",
    "s_2015 = session.query(Measurement.tobs).filter(Measurement.date > '2015-05-31').filter(Measurement.date < '2015-07-01').all()\n",
    "s_2016 = session.query(Measurement.tobs).filter(Measurement.date > '2016-05-31').filter(Measurement.date < '2016-07-01').all()\n",
    "s_2017 = session.query(Measurement.tobs).filter(Measurement.date > '2017-05-31').filter(Measurement.date < '2017-07-01').all()"
   ]
  },
  {
   "cell_type": "markdown",
   "metadata": {},
   "source": [
    "## Notes\n",
    "\n",
    "for x in s_2010: \n",
    "\n",
    "    print(x[0]) \n",
    "    \n",
    "-- The code above says that for x in s_2010, loop through the tuples, then print the first value from those tuples \n",
    "-- NOTE; This is a tuple because of the \"(XY)\" notation.  The parentheses denotes a tuple\n",
    "\n",
    "year_2010 = []\n",
    "\n",
    "for x in s_2010: \n",
    "    year_2010.append(x[0])\n",
    "    \n",
    "- The above code is taking the empty list and adding the first value of each tuple to the new list (year_2010) "
   ]
  },
  {
   "cell_type": "code",
   "execution_count": 5,
   "metadata": {},
   "outputs": [],
   "source": [
    "# Declare list: 2010 \n",
    "year_2010 = []\n",
    "\n",
    "# Extract the value from the tuple \n",
    "for x in s_2010: \n",
    "    year_2010.append(x[0])\n",
    "# Then put the value from the tuple in a list \n",
    "# We are taking the first value from each tuple and adding it to a list, this is because each tuple only has one value "
   ]
  },
  {
   "cell_type": "code",
   "execution_count": 6,
   "metadata": {},
   "outputs": [],
   "source": [
    "# Declare list: 2011\n",
    "year_2011 = []\n",
    "\n",
    "# Extract the value from the tuple \n",
    "for x in s_2011: \n",
    "    year_2011.append(x[0])"
   ]
  },
  {
   "cell_type": "code",
   "execution_count": 7,
   "metadata": {},
   "outputs": [],
   "source": [
    "# Declare list: 2012\n",
    "year_2012 = []\n",
    "\n",
    "# Extract the value from the tuple \n",
    "for x in s_2012: \n",
    "    year_2012.append(x[0])"
   ]
  },
  {
   "cell_type": "code",
   "execution_count": 8,
   "metadata": {},
   "outputs": [],
   "source": [
    "year_2013 = []\n",
    "\n",
    "# Extract the value from the tuple \n",
    "for x in s_2013: \n",
    "    year_2013.append(x[0])"
   ]
  },
  {
   "cell_type": "code",
   "execution_count": 9,
   "metadata": {},
   "outputs": [],
   "source": [
    "year_2014 = []\n",
    "\n",
    "# Extract the value from the tuple \n",
    "for x in s_2014: \n",
    "    year_2014.append(x[0])"
   ]
  },
  {
   "cell_type": "code",
   "execution_count": 10,
   "metadata": {},
   "outputs": [],
   "source": [
    "year_2015 = []\n",
    "\n",
    "# Extract the value from the tuple \n",
    "for x in s_2015: \n",
    "    year_2015.append(x[0])"
   ]
  },
  {
   "cell_type": "code",
   "execution_count": 11,
   "metadata": {},
   "outputs": [],
   "source": [
    "year_2016 = []\n",
    "\n",
    "# Extract the value from the tuple \n",
    "for x in s_2016: \n",
    "    year_2016.append(x[0])"
   ]
  },
  {
   "cell_type": "code",
   "execution_count": 12,
   "metadata": {},
   "outputs": [],
   "source": [
    "year_2017 = []\n",
    "\n",
    "# Extract the value from the tuple \n",
    "for x in s_2017: \n",
    "    year_2017.append(x[0])"
   ]
  },
  {
   "cell_type": "code",
   "execution_count": 13,
   "metadata": {},
   "outputs": [],
   "source": [
    "#  3. Convert the June temperatures to a list.\n",
    "\n",
    "all_years = year_2010 + year_2011 + year_2012 + year_2013 + year_2014 + year_2015 + year_2016 + year_2017\n",
    "\n",
    "# def tuple_func(year):\n",
    "#     for i in range(1,5):\n",
    "        \n",
    "        \n",
    "#     new_list = []\n",
    "#     for x in year: \n",
    "#         return new_list.append(x[0])\n",
    "    \n",
    "# year_2010 = {\"2010\": s_2010}\n",
    "# year_2011 = {\"2011\": s_2011}\n",
    "# year_2012 = {\"2012\": s_2012}\n",
    "# year_2013 = {\"2013\": s_2013}\n",
    "# year_2014 = {\"2014\": s_2014}\n",
    "# year_2015 = {\"2015\": s_2015}\n",
    "# year_2016 = {\"2016\": s_2016}\n",
    "# year_2017 = {\"2017\": s_2017}"
   ]
  },
  {
   "cell_type": "code",
   "execution_count": 14,
   "metadata": {},
   "outputs": [],
   "source": [
    "# 4. Create a DataFrame from the list of temperatures for the month of June. \n",
    "\n",
    "all_years_dict = {\"All Years June\": all_years}\n",
    "\n",
    "all_years_df = pd.DataFrame(all_years_dict) \n",
    "\n",
    "# pd.DataFrame(s_2010)\n",
    "# pd.DataFrame(year_2011)\n",
    "# pd.DataFrame(year_2012)\n",
    "# pd.DataFrame(year_2013)\n",
    "# pd.DataFrame(year_2014)\n",
    "# pd.DataFrame(year_2015)\n",
    "# pd.DataFrame(year_2016)\n",
    "# pd.DataFrame(year_2017).describe()"
   ]
  },
  {
   "cell_type": "code",
   "execution_count": 15,
   "metadata": {},
   "outputs": [
    {
     "data": {
      "text/html": [
       "<div>\n",
       "<style scoped>\n",
       "    .dataframe tbody tr th:only-of-type {\n",
       "        vertical-align: middle;\n",
       "    }\n",
       "\n",
       "    .dataframe tbody tr th {\n",
       "        vertical-align: top;\n",
       "    }\n",
       "\n",
       "    .dataframe thead th {\n",
       "        text-align: right;\n",
       "    }\n",
       "</style>\n",
       "<table border=\"1\" class=\"dataframe\">\n",
       "  <thead>\n",
       "    <tr style=\"text-align: right;\">\n",
       "      <th></th>\n",
       "      <th>All Years June</th>\n",
       "    </tr>\n",
       "  </thead>\n",
       "  <tbody>\n",
       "    <tr>\n",
       "      <th>count</th>\n",
       "      <td>1700.000000</td>\n",
       "    </tr>\n",
       "    <tr>\n",
       "      <th>mean</th>\n",
       "      <td>74.944118</td>\n",
       "    </tr>\n",
       "    <tr>\n",
       "      <th>std</th>\n",
       "      <td>3.257417</td>\n",
       "    </tr>\n",
       "    <tr>\n",
       "      <th>min</th>\n",
       "      <td>64.000000</td>\n",
       "    </tr>\n",
       "    <tr>\n",
       "      <th>25%</th>\n",
       "      <td>73.000000</td>\n",
       "    </tr>\n",
       "    <tr>\n",
       "      <th>50%</th>\n",
       "      <td>75.000000</td>\n",
       "    </tr>\n",
       "    <tr>\n",
       "      <th>75%</th>\n",
       "      <td>77.000000</td>\n",
       "    </tr>\n",
       "    <tr>\n",
       "      <th>max</th>\n",
       "      <td>85.000000</td>\n",
       "    </tr>\n",
       "  </tbody>\n",
       "</table>\n",
       "</div>"
      ],
      "text/plain": [
       "       All Years June\n",
       "count     1700.000000\n",
       "mean        74.944118\n",
       "std          3.257417\n",
       "min         64.000000\n",
       "25%         73.000000\n",
       "50%         75.000000\n",
       "75%         77.000000\n",
       "max         85.000000"
      ]
     },
     "execution_count": 15,
     "metadata": {},
     "output_type": "execute_result"
    }
   ],
   "source": [
    "# 5. Calculate and print out the summary statistics for the June temperature DataFrame.\n",
    "all_years_df.describe()"
   ]
  },
  {
   "cell_type": "markdown",
   "metadata": {},
   "source": [
    "## D2: Determine the Summary Statistics for December"
   ]
  },
  {
   "cell_type": "code",
   "execution_count": 16,
   "metadata": {},
   "outputs": [],
   "source": [
    "# 6. Write a query that filters the Measurement table to retrieve the temperatures for the month of December.\n",
    "d_2010 = session.query(Measurement.tobs).filter(Measurement.date > '2010-11-31').filter(Measurement.date < '2011-01-01').all()\n",
    "d_2011 = session.query(Measurement.tobs).filter(Measurement.date > '2011-11-31').filter(Measurement.date < '2012-01-01').all()\n",
    "d_2012 = session.query(Measurement.tobs).filter(Measurement.date > '2012-11-31').filter(Measurement.date < '2013-01-01').all()\n",
    "d_2013 = session.query(Measurement.tobs).filter(Measurement.date > '2013-11-31').filter(Measurement.date < '2014-01-01').all()\n",
    "d_2014 = session.query(Measurement.tobs).filter(Measurement.date > '2014-11-31').filter(Measurement.date < '2015-01-01').all()\n",
    "d_2015 = session.query(Measurement.tobs).filter(Measurement.date > '2015-11-31').filter(Measurement.date < '2016-01-01').all()\n",
    "d_2016 = session.query(Measurement.tobs).filter(Measurement.date > '2016-11-31').filter(Measurement.date < '2017-01-01').all()\n",
    "d_2017 = session.query(Measurement.tobs).filter(Measurement.date > '2017-11-31').filter(Measurement.date < '2018-01-01').all()"
   ]
  },
  {
   "cell_type": "code",
   "execution_count": 17,
   "metadata": {},
   "outputs": [],
   "source": [
    "# 7. Convert the December temperatures to a list.\n",
    "# Declare list: 2010\n",
    "yeard_2010 = []\n",
    "\n",
    "# Extract the value from the tuple \n",
    "for x in d_2010: \n",
    "    yeard_2010.append(x[0])"
   ]
  },
  {
   "cell_type": "code",
   "execution_count": 18,
   "metadata": {},
   "outputs": [],
   "source": [
    "# Declare list: 2011\n",
    "yeard_2011 = []\n",
    "\n",
    "# Extract the value from the tuple \n",
    "for x in d_2011: \n",
    "    yeard_2011.append(x[0])"
   ]
  },
  {
   "cell_type": "code",
   "execution_count": 19,
   "metadata": {},
   "outputs": [],
   "source": [
    "# Declare list: 2012\n",
    "yeard_2012 = []\n",
    "\n",
    "# Extract the value from the tuple \n",
    "for x in d_2012: \n",
    "    yeard_2012.append(x[0])"
   ]
  },
  {
   "cell_type": "code",
   "execution_count": 20,
   "metadata": {},
   "outputs": [],
   "source": [
    "# Declare list: 2013\n",
    "yeard_2013 = []\n",
    "\n",
    "# Extract the value from the tuple \n",
    "for x in d_2013: \n",
    "    yeard_2013.append(x[0])"
   ]
  },
  {
   "cell_type": "code",
   "execution_count": 21,
   "metadata": {},
   "outputs": [],
   "source": [
    "# Declare list: 2014\n",
    "yeard_2014 = []\n",
    "\n",
    "# Extract the value from the tuple \n",
    "for x in d_2014: \n",
    "    yeard_2014.append(x[0])"
   ]
  },
  {
   "cell_type": "code",
   "execution_count": 22,
   "metadata": {},
   "outputs": [],
   "source": [
    "# Declare list: 2015\n",
    "yeard_2015 = []\n",
    "\n",
    "# Extract the value from the tuple \n",
    "for x in d_2015: \n",
    "    yeard_2015.append(x[0])"
   ]
  },
  {
   "cell_type": "code",
   "execution_count": 23,
   "metadata": {},
   "outputs": [],
   "source": [
    "# Declare list: 2016\n",
    "yeard_2016 = []\n",
    "\n",
    "# Extract the value from the tuple \n",
    "for x in d_2016: \n",
    "    yeard_2016.append(x[0])"
   ]
  },
  {
   "cell_type": "code",
   "execution_count": 24,
   "metadata": {},
   "outputs": [],
   "source": [
    "# Declare list: 2017\n",
    "yeard_2017 = []\n",
    "\n",
    "# Extract the value from the tuple \n",
    "for x in d_2017: \n",
    "    yeard_2017.append(x[0])"
   ]
  },
  {
   "cell_type": "code",
   "execution_count": 27,
   "metadata": {},
   "outputs": [],
   "source": [
    "all_years_d = yeard_2010 + yeard_2011 + yeard_2012 + yeard_2013 + yeard_2014 + yeard_2015 + yeard_2016 + yeard_2017"
   ]
  },
  {
   "cell_type": "code",
   "execution_count": 28,
   "metadata": {},
   "outputs": [],
   "source": [
    "# 8. Create a DataFrame from the list of temperatures for the month of December. \n",
    "\n",
    "all_yearsd_dict = {\"All Years December\": all_years_d}\n",
    "\n",
    "all_yearsd_df = pd.DataFrame(all_yearsd_dict) "
   ]
  },
  {
   "cell_type": "code",
   "execution_count": 29,
   "metadata": {},
   "outputs": [
    {
     "data": {
      "text/html": [
       "<div>\n",
       "<style scoped>\n",
       "    .dataframe tbody tr th:only-of-type {\n",
       "        vertical-align: middle;\n",
       "    }\n",
       "\n",
       "    .dataframe tbody tr th {\n",
       "        vertical-align: top;\n",
       "    }\n",
       "\n",
       "    .dataframe thead th {\n",
       "        text-align: right;\n",
       "    }\n",
       "</style>\n",
       "<table border=\"1\" class=\"dataframe\">\n",
       "  <thead>\n",
       "    <tr style=\"text-align: right;\">\n",
       "      <th></th>\n",
       "      <th>All Years December</th>\n",
       "    </tr>\n",
       "  </thead>\n",
       "  <tbody>\n",
       "    <tr>\n",
       "      <th>count</th>\n",
       "      <td>1517.000000</td>\n",
       "    </tr>\n",
       "    <tr>\n",
       "      <th>mean</th>\n",
       "      <td>71.041529</td>\n",
       "    </tr>\n",
       "    <tr>\n",
       "      <th>std</th>\n",
       "      <td>3.745920</td>\n",
       "    </tr>\n",
       "    <tr>\n",
       "      <th>min</th>\n",
       "      <td>56.000000</td>\n",
       "    </tr>\n",
       "    <tr>\n",
       "      <th>25%</th>\n",
       "      <td>69.000000</td>\n",
       "    </tr>\n",
       "    <tr>\n",
       "      <th>50%</th>\n",
       "      <td>71.000000</td>\n",
       "    </tr>\n",
       "    <tr>\n",
       "      <th>75%</th>\n",
       "      <td>74.000000</td>\n",
       "    </tr>\n",
       "    <tr>\n",
       "      <th>max</th>\n",
       "      <td>83.000000</td>\n",
       "    </tr>\n",
       "  </tbody>\n",
       "</table>\n",
       "</div>"
      ],
      "text/plain": [
       "       All Years December\n",
       "count         1517.000000\n",
       "mean            71.041529\n",
       "std              3.745920\n",
       "min             56.000000\n",
       "25%             69.000000\n",
       "50%             71.000000\n",
       "75%             74.000000\n",
       "max             83.000000"
      ]
     },
     "execution_count": 29,
     "metadata": {},
     "output_type": "execute_result"
    }
   ],
   "source": [
    "# 9. Calculate and print out the summary statistics for the Decemeber temperature DataFrame.\n",
    "all_yearsd_df.describe()"
   ]
  },
  {
   "cell_type": "code",
   "execution_count": null,
   "metadata": {},
   "outputs": [],
   "source": []
  }
 ],
 "metadata": {
  "kernelspec": {
   "display_name": "PythonData",
   "language": "python",
   "name": "pythondata"
  },
  "language_info": {
   "codemirror_mode": {
    "name": "ipython",
    "version": 3
   },
   "file_extension": ".py",
   "mimetype": "text/x-python",
   "name": "python",
   "nbconvert_exporter": "python",
   "pygments_lexer": "ipython3",
   "version": "3.9.7"
  }
 },
 "nbformat": 4,
 "nbformat_minor": 2
}
